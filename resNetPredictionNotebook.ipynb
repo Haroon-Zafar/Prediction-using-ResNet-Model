{
 "cells": [
  {
   "cell_type": "code",
   "execution_count": 1,
   "metadata": {},
   "outputs": [],
   "source": [
    "# Syntax of Resnet50\n",
    "# keras.applications.resnet.ResNet50 (\n",
    "#    include_top = True, \n",
    "#    weights = 'imagenet', \n",
    "#    input_tensor = None, \n",
    "#    input_shape = None, \n",
    "#    pooling = None, \n",
    "#    classes = 1000\n",
    "# )\n",
    "\n",
    "# include_top refers the fully-connected layer at the top of the network.\n",
    "\n",
    "# weights refer pre-training on ImageNet.\n",
    "\n",
    "# input_tensor refers optional Keras tensor to use as image input for the model.\n",
    "\n",
    "# input_shape refers optional shape tuple. The default input size for this model is 224x224.\n",
    "\n",
    "# classes refer optional number of classes to classify images.\n",
    "\n"
   ]
  },
  {
   "cell_type": "code",
   "execution_count": 7,
   "metadata": {},
   "outputs": [],
   "source": [
    "# Importing Libraries. \n",
    "import PIL \n",
    "from tensorflow import keras\n",
    "# USE Underscore to import all the functions from the module instead of dot. \n",
    "from keras_preprocessing.image import img_to_array, load_img\n",
    "from keras.applications.imagenet_utils import decode_predictions \n",
    "import matplotlib.pyplot as plt \n",
    "import numpy as np \n",
    "from keras_resnet.models import ResNet50\n"
   ]
  },
  {
   "cell_type": "code",
   "execution_count": null,
   "metadata": {},
   "outputs": [],
   "source": []
  }
 ],
 "metadata": {
  "kernelspec": {
   "display_name": "Python 3.9.4 64-bit",
   "language": "python",
   "name": "python3"
  },
  "language_info": {
   "codemirror_mode": {
    "name": "ipython",
    "version": 3
   },
   "file_extension": ".py",
   "mimetype": "text/x-python",
   "name": "python",
   "nbconvert_exporter": "python",
   "pygments_lexer": "ipython3",
   "version": "3.9.4"
  },
  "orig_nbformat": 4,
  "vscode": {
   "interpreter": {
    "hash": "69713e280fccb9aa802931bf1b98f79efcfe938b3ab1e86cc85b2e647522a81d"
   }
  }
 },
 "nbformat": 4,
 "nbformat_minor": 2
}
