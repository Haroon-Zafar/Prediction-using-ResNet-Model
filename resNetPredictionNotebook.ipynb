{
 "cells": [
  {
   "cell_type": "code",
   "execution_count": null,
   "metadata": {},
   "outputs": [],
   "source": [
    "# Syntax of Resnet50\n",
    "# keras.applications.resnet.ResNet50 (\n",
    "#    include_top = True, \n",
    "#    weights = 'imagenet', \n",
    "#    input_tensor = None, \n",
    "#    input_shape = None, \n",
    "#    pooling = None, \n",
    "#    classes = 1000\n",
    "# )\n",
    "\n",
    "# include_top refers the fully-connected layer at the top of the network.\n",
    "\n",
    "# weights refer pre-training on ImageNet.\n",
    "\n",
    "# input_tensor refers optional Keras tensor to use as image input for the model.\n",
    "\n",
    "# input_shape refers optional shape tuple. The default input size for this model is 224x224.\n",
    "\n",
    "# classes refer optional number of classes to classify images.\n",
    "\n"
   ]
  }
 ],
 "metadata": {
  "language_info": {
   "name": "python"
  },
  "orig_nbformat": 4
 },
 "nbformat": 4,
 "nbformat_minor": 2
}
